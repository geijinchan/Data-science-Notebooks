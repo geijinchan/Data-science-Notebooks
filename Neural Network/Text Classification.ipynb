{
 "cells": [
  {
   "cell_type": "code",
   "execution_count": 1,
   "id": "3efe8927",
   "metadata": {},
   "outputs": [],
   "source": [
    "#import libraries\n",
    "import tensorflow as tf\n",
    "from tensorflow import keras\n",
    "import numpy as np"
   ]
  },
  {
   "cell_type": "code",
   "execution_count": 2,
   "id": "f17a48aa",
   "metadata": {},
   "outputs": [],
   "source": [
    "#Loading data\n",
    "data=keras.datasets.imdb"
   ]
  },
  {
   "cell_type": "code",
   "execution_count": 3,
   "id": "83de04fa",
   "metadata": {},
   "outputs": [
    {
     "name": "stderr",
     "output_type": "stream",
     "text": [
      "<__array_function__ internals>:5: VisibleDeprecationWarning: Creating an ndarray from ragged nested sequences (which is a list-or-tuple of lists-or-tuples-or ndarrays with different lengths or shapes) is deprecated. If you meant to do this, you must specify 'dtype=object' when creating the ndarray.\n",
      "C:\\Users\\user\\anaconda3\\envs\\tensorflow\\lib\\site-packages\\tensorflow\\python\\keras\\datasets\\imdb.py:159: VisibleDeprecationWarning: Creating an ndarray from ragged nested sequences (which is a list-or-tuple of lists-or-tuples-or ndarrays with different lengths or shapes) is deprecated. If you meant to do this, you must specify 'dtype=object' when creating the ndarray.\n",
      "  x_train, y_train = np.array(xs[:idx]), np.array(labels[:idx])\n",
      "C:\\Users\\user\\anaconda3\\envs\\tensorflow\\lib\\site-packages\\tensorflow\\python\\keras\\datasets\\imdb.py:160: VisibleDeprecationWarning: Creating an ndarray from ragged nested sequences (which is a list-or-tuple of lists-or-tuples-or ndarrays with different lengths or shapes) is deprecated. If you meant to do this, you must specify 'dtype=object' when creating the ndarray.\n",
      "  x_test, y_test = np.array(xs[idx:]), np.array(labels[idx:])\n"
     ]
    }
   ],
   "source": [
    "#Split data \n",
    "(train_data,train_labels),(test_data,test_labels)=data.load_data(num_words=1000)"
   ]
  },
  {
   "cell_type": "code",
   "execution_count": 4,
   "id": "441d3806",
   "metadata": {},
   "outputs": [],
   "source": [
    "#mapping \n",
    "word_index=data.get_word_index()"
   ]
  },
  {
   "cell_type": "code",
   "execution_count": 5,
   "id": "08f51f72",
   "metadata": {},
   "outputs": [],
   "source": [
    "#assigning own values to PAD,START,UNK and UNUSED(padding)\n",
    "word_index={k:(v+3) for k,v in word_index.items()}\n",
    "word_index[\"<PAD>\"]=0\n",
    "word_index[\"<START>\"]=1\n",
    "word_index[\"<UNK>\"]=2\n",
    "word_index[\"<UNUSED>\"]=3"
   ]
  },
  {
   "cell_type": "code",
   "execution_count": 6,
   "id": "125d5d44",
   "metadata": {},
   "outputs": [],
   "source": [
    "#swapping values keys:values to values:keys\n",
    "reverse_word_index=dict([(value,key)for (key,value)in word_index.items()])"
   ]
  },
  {
   "cell_type": "code",
   "execution_count": 11,
   "id": "3ba59a2a",
   "metadata": {},
   "outputs": [],
   "source": [
    "#this function will decode traing and testing data to human readable for\n",
    "def decode_review(text):\n",
    "    return \" \".join([reverse_word_index.get(i, \"?\")for i in text])\n",
    "\n",
    "# def review_encode(s):\n",
    "    encoded=[1]\n",
    "    \n",
    "    for word in s:\n",
    "        if word.lower() in word_index:\n",
    "            encoded.append(word_index[word.lower()])\n",
    "        else:\n",
    "            encoded.append(2)\n",
    "    return encoded    "
   ]
  },
  {
   "cell_type": "code",
   "execution_count": 14,
   "id": "129b812a",
   "metadata": {},
   "outputs": [
    {
     "name": "stdout",
     "output_type": "stream",
     "text": [
      "<START> please give this one a miss br br <UNK> <UNK> and the rest of the cast <UNK> terrible performances the show is <UNK> <UNK> <UNK> br br i don't know how michael <UNK> could have <UNK> this one on his <UNK> he almost seemed to know this wasn't going to work out and his performance was quite <UNK> so all you <UNK> fans give this a miss\n"
     ]
    }
   ],
   "source": [
    "print(decode_review(test_data[0]))"
   ]
  },
  {
   "cell_type": "code",
   "execution_count": 15,
   "id": "7515bd06",
   "metadata": {},
   "outputs": [],
   "source": [
    "#preprocessing data\n",
    "train_data=keras.preprocessing.sequence.pad_sequences(train_data,value=word_index[\"<PAD>\"],padding=\"post\",maxlen=250)\n",
    "test_data=keras.preprocessing.sequence.pad_sequences(test_data,value=word_index[\"<PAD>\"],padding=\"post\",maxlen=250)"
   ]
  },
  {
   "cell_type": "code",
   "execution_count": 16,
   "id": "164d0c6e",
   "metadata": {},
   "outputs": [],
   "source": [
    "#model down here\n",
    "model=keras.Sequential()\n",
    "model.add(keras.layers.Embedding(88000,16)) #finding word vector and group them with similar words\n",
    "model.add(keras.layers.GlobalAveragePooling1D()) #lowering dimensionals(16D->4D)\n",
    "model.add(keras.layers.Dense(16,activation=\"relu\")) #finding patterns and group them(rectify linear unit)\n",
    "model.add(keras.layers.Dense(1,activation=\"sigmoid\")) \n",
    "#model.summary()"
   ]
  },
  {
   "cell_type": "code",
   "execution_count": 17,
   "id": "03b8880d",
   "metadata": {},
   "outputs": [],
   "source": [
    "model.compile(optimizer=\"adam\",loss=\"binary_crossentropy\",metrics=[\"accuracy\"])"
   ]
  },
  {
   "cell_type": "code",
   "execution_count": 18,
   "id": "f24fbbec",
   "metadata": {},
   "outputs": [],
   "source": [
    "x_val=train_data[:10000]\n",
    "x_train=train_data[10000:]\n",
    "\n",
    "y_val=train_labels[:10000]\n",
    "y_train=train_labels[10000:]"
   ]
  },
  {
   "cell_type": "code",
   "execution_count": 19,
   "id": "31f65b31",
   "metadata": {},
   "outputs": [
    {
     "name": "stdout",
     "output_type": "stream",
     "text": [
      "Epoch 1/90\n",
      "30/30 [==============================] - 2s 25ms/step - loss: 0.6927 - accuracy: 0.5321 - val_loss: 0.6907 - val_accuracy: 0.5548\n",
      "Epoch 2/90\n",
      "30/30 [==============================] - 1s 19ms/step - loss: 0.6891 - accuracy: 0.5695 - val_loss: 0.6849 - val_accuracy: 0.6737\n",
      "Epoch 3/90\n",
      "30/30 [==============================] - 1s 19ms/step - loss: 0.6815 - accuracy: 0.7170 - val_loss: 0.6736 - val_accuracy: 0.6978\n",
      "Epoch 4/90\n",
      "30/30 [==============================] - 1s 20ms/step - loss: 0.6674 - accuracy: 0.7091 - val_loss: 0.6550 - val_accuracy: 0.7253\n",
      "Epoch 5/90\n",
      "30/30 [==============================] - 1s 20ms/step - loss: 0.6456 - accuracy: 0.7397 - val_loss: 0.6291 - val_accuracy: 0.7407\n",
      "Epoch 6/90\n",
      "30/30 [==============================] - 1s 20ms/step - loss: 0.6163 - accuracy: 0.7529 - val_loss: 0.5980 - val_accuracy: 0.7570\n",
      "Epoch 7/90\n",
      "30/30 [==============================] - 1s 20ms/step - loss: 0.5851 - accuracy: 0.7609 - val_loss: 0.5648 - val_accuracy: 0.7728\n",
      "Epoch 8/90\n",
      "30/30 [==============================] - 1s 20ms/step - loss: 0.5500 - accuracy: 0.7798 - val_loss: 0.5298 - val_accuracy: 0.7899\n",
      "Epoch 9/90\n",
      "30/30 [==============================] - 1s 19ms/step - loss: 0.5148 - accuracy: 0.7999 - val_loss: 0.4977 - val_accuracy: 0.7991\n",
      "Epoch 10/90\n",
      "30/30 [==============================] - 1s 20ms/step - loss: 0.4829 - accuracy: 0.8126 - val_loss: 0.4698 - val_accuracy: 0.8113\n",
      "Epoch 11/90\n",
      "30/30 [==============================] - 1s 19ms/step - loss: 0.4513 - accuracy: 0.8228 - val_loss: 0.4466 - val_accuracy: 0.8171\n",
      "Epoch 12/90\n",
      "30/30 [==============================] - 1s 21ms/step - loss: 0.4308 - accuracy: 0.8251 - val_loss: 0.4301 - val_accuracy: 0.8212\n",
      "Epoch 13/90\n",
      "30/30 [==============================] - 1s 19ms/step - loss: 0.4133 - accuracy: 0.8352 - val_loss: 0.4138 - val_accuracy: 0.8291\n",
      "Epoch 14/90\n",
      "30/30 [==============================] - 1s 19ms/step - loss: 0.3950 - accuracy: 0.8424 - val_loss: 0.4023 - val_accuracy: 0.8327\n",
      "Epoch 15/90\n",
      "30/30 [==============================] - 1s 20ms/step - loss: 0.3866 - accuracy: 0.8425 - val_loss: 0.3928 - val_accuracy: 0.8368\n",
      "Epoch 16/90\n",
      "30/30 [==============================] - 1s 21ms/step - loss: 0.3734 - accuracy: 0.8447 - val_loss: 0.3856 - val_accuracy: 0.8398\n",
      "Epoch 17/90\n",
      "30/30 [==============================] - 1s 19ms/step - loss: 0.3702 - accuracy: 0.8470 - val_loss: 0.3795 - val_accuracy: 0.8393\n",
      "Epoch 18/90\n",
      "30/30 [==============================] - 1s 19ms/step - loss: 0.3612 - accuracy: 0.8483 - val_loss: 0.3735 - val_accuracy: 0.8438\n",
      "Epoch 19/90\n",
      "30/30 [==============================] - 1s 20ms/step - loss: 0.3468 - accuracy: 0.8535 - val_loss: 0.3690 - val_accuracy: 0.8450\n",
      "Epoch 20/90\n",
      "30/30 [==============================] - 1s 21ms/step - loss: 0.3471 - accuracy: 0.8569 - val_loss: 0.3661 - val_accuracy: 0.8447\n",
      "Epoch 21/90\n",
      "30/30 [==============================] - 1s 20ms/step - loss: 0.3383 - accuracy: 0.8611 - val_loss: 0.3623 - val_accuracy: 0.8474\n",
      "Epoch 22/90\n",
      "30/30 [==============================] - 1s 20ms/step - loss: 0.3302 - accuracy: 0.8614 - val_loss: 0.3598 - val_accuracy: 0.8479\n",
      "Epoch 23/90\n",
      "30/30 [==============================] - 1s 19ms/step - loss: 0.3322 - accuracy: 0.8586 - val_loss: 0.3575 - val_accuracy: 0.8482\n",
      "Epoch 24/90\n",
      "30/30 [==============================] - 1s 19ms/step - loss: 0.3281 - accuracy: 0.8625 - val_loss: 0.3558 - val_accuracy: 0.8495\n",
      "Epoch 25/90\n",
      "30/30 [==============================] - 1s 19ms/step - loss: 0.3202 - accuracy: 0.8702 - val_loss: 0.3533 - val_accuracy: 0.8518\n",
      "Epoch 26/90\n",
      "30/30 [==============================] - 1s 21ms/step - loss: 0.3252 - accuracy: 0.8657 - val_loss: 0.3520 - val_accuracy: 0.8517\n",
      "Epoch 27/90\n",
      "30/30 [==============================] - 1s 20ms/step - loss: 0.3144 - accuracy: 0.8719 - val_loss: 0.3516 - val_accuracy: 0.8523\n",
      "Epoch 28/90\n",
      "30/30 [==============================] - 1s 20ms/step - loss: 0.3171 - accuracy: 0.8679 - val_loss: 0.3513 - val_accuracy: 0.8521\n",
      "Epoch 29/90\n",
      "30/30 [==============================] - 1s 19ms/step - loss: 0.3084 - accuracy: 0.8747 - val_loss: 0.3498 - val_accuracy: 0.8522\n",
      "Epoch 30/90\n",
      "30/30 [==============================] - 1s 20ms/step - loss: 0.3067 - accuracy: 0.8739 - val_loss: 0.3488 - val_accuracy: 0.8530\n",
      "Epoch 31/90\n",
      "30/30 [==============================] - 1s 20ms/step - loss: 0.3067 - accuracy: 0.8742 - val_loss: 0.3490 - val_accuracy: 0.8537\n",
      "Epoch 32/90\n",
      "30/30 [==============================] - 1s 20ms/step - loss: 0.3086 - accuracy: 0.8728 - val_loss: 0.3471 - val_accuracy: 0.8549\n",
      "Epoch 33/90\n",
      "30/30 [==============================] - 1s 20ms/step - loss: 0.3047 - accuracy: 0.8728 - val_loss: 0.3467 - val_accuracy: 0.8546\n",
      "Epoch 34/90\n",
      "30/30 [==============================] - 1s 20ms/step - loss: 0.3114 - accuracy: 0.8734 - val_loss: 0.3464 - val_accuracy: 0.8545\n",
      "Epoch 35/90\n",
      "30/30 [==============================] - 1s 20ms/step - loss: 0.3002 - accuracy: 0.8774 - val_loss: 0.3467 - val_accuracy: 0.8555\n",
      "Epoch 36/90\n",
      "30/30 [==============================] - 1s 20ms/step - loss: 0.2989 - accuracy: 0.8752 - val_loss: 0.3464 - val_accuracy: 0.8546\n",
      "Epoch 37/90\n",
      "30/30 [==============================] - 1s 19ms/step - loss: 0.3071 - accuracy: 0.8724 - val_loss: 0.3469 - val_accuracy: 0.8539\n",
      "Epoch 38/90\n",
      "30/30 [==============================] - 1s 21ms/step - loss: 0.3069 - accuracy: 0.8746 - val_loss: 0.3465 - val_accuracy: 0.8541\n",
      "Epoch 39/90\n",
      "30/30 [==============================] - 1s 20ms/step - loss: 0.2945 - accuracy: 0.8772 - val_loss: 0.3463 - val_accuracy: 0.8541\n",
      "Epoch 40/90\n",
      "30/30 [==============================] - 1s 20ms/step - loss: 0.3002 - accuracy: 0.8741 - val_loss: 0.3464 - val_accuracy: 0.8549\n",
      "Epoch 41/90\n",
      "30/30 [==============================] - 1s 20ms/step - loss: 0.2979 - accuracy: 0.8763 - val_loss: 0.3478 - val_accuracy: 0.8546\n",
      "Epoch 42/90\n",
      "30/30 [==============================] - 1s 20ms/step - loss: 0.3065 - accuracy: 0.8723 - val_loss: 0.3502 - val_accuracy: 0.8507\n",
      "Epoch 43/90\n",
      "30/30 [==============================] - 1s 20ms/step - loss: 0.2909 - accuracy: 0.8801 - val_loss: 0.3467 - val_accuracy: 0.8541\n",
      "Epoch 44/90\n",
      "30/30 [==============================] - 1s 20ms/step - loss: 0.2902 - accuracy: 0.8806 - val_loss: 0.3472 - val_accuracy: 0.8551\n",
      "Epoch 45/90\n",
      "30/30 [==============================] - 1s 20ms/step - loss: 0.2903 - accuracy: 0.8786 - val_loss: 0.3481 - val_accuracy: 0.8535\n",
      "Epoch 46/90\n",
      "30/30 [==============================] - 1s 20ms/step - loss: 0.2926 - accuracy: 0.8789 - val_loss: 0.3471 - val_accuracy: 0.8547\n",
      "Epoch 47/90\n",
      "30/30 [==============================] - 1s 20ms/step - loss: 0.2882 - accuracy: 0.8825 - val_loss: 0.3472 - val_accuracy: 0.8546\n",
      "Epoch 48/90\n",
      "30/30 [==============================] - 1s 19ms/step - loss: 0.2929 - accuracy: 0.8751 - val_loss: 0.3478 - val_accuracy: 0.8530\n",
      "Epoch 49/90\n",
      "30/30 [==============================] - 1s 20ms/step - loss: 0.2933 - accuracy: 0.8764 - val_loss: 0.3476 - val_accuracy: 0.8542\n",
      "Epoch 50/90\n",
      "30/30 [==============================] - 1s 20ms/step - loss: 0.2930 - accuracy: 0.8768 - val_loss: 0.3489 - val_accuracy: 0.8537\n",
      "Epoch 51/90\n",
      "30/30 [==============================] - 1s 20ms/step - loss: 0.2922 - accuracy: 0.8762 - val_loss: 0.3479 - val_accuracy: 0.8530\n",
      "Epoch 52/90\n",
      "30/30 [==============================] - 1s 20ms/step - loss: 0.2851 - accuracy: 0.8841 - val_loss: 0.3480 - val_accuracy: 0.8530\n",
      "Epoch 53/90\n",
      "30/30 [==============================] - 1s 19ms/step - loss: 0.2970 - accuracy: 0.8751 - val_loss: 0.3488 - val_accuracy: 0.8525\n",
      "Epoch 54/90\n",
      "30/30 [==============================] - 1s 20ms/step - loss: 0.2815 - accuracy: 0.8820 - val_loss: 0.3533 - val_accuracy: 0.8505\n",
      "Epoch 55/90\n",
      "30/30 [==============================] - 1s 20ms/step - loss: 0.2944 - accuracy: 0.8779 - val_loss: 0.3486 - val_accuracy: 0.8541\n",
      "Epoch 56/90\n",
      "30/30 [==============================] - 1s 20ms/step - loss: 0.2986 - accuracy: 0.8746 - val_loss: 0.3490 - val_accuracy: 0.8532\n",
      "Epoch 57/90\n",
      "30/30 [==============================] - 1s 20ms/step - loss: 0.2923 - accuracy: 0.8788 - val_loss: 0.3488 - val_accuracy: 0.8533\n",
      "Epoch 58/90\n",
      "30/30 [==============================] - 1s 20ms/step - loss: 0.2813 - accuracy: 0.8820 - val_loss: 0.3501 - val_accuracy: 0.8532\n"
     ]
    },
    {
     "name": "stdout",
     "output_type": "stream",
     "text": [
      "Epoch 59/90\n",
      "30/30 [==============================] - 1s 21ms/step - loss: 0.2925 - accuracy: 0.8764 - val_loss: 0.3499 - val_accuracy: 0.8531\n",
      "Epoch 60/90\n",
      "30/30 [==============================] - 1s 20ms/step - loss: 0.2892 - accuracy: 0.8783 - val_loss: 0.3502 - val_accuracy: 0.8525\n",
      "Epoch 61/90\n",
      "30/30 [==============================] - 1s 19ms/step - loss: 0.2820 - accuracy: 0.8772 - val_loss: 0.3500 - val_accuracy: 0.8532\n",
      "Epoch 62/90\n",
      "30/30 [==============================] - 1s 22ms/step - loss: 0.2895 - accuracy: 0.8777 - val_loss: 0.3498 - val_accuracy: 0.8541\n",
      "Epoch 63/90\n",
      "30/30 [==============================] - 1s 19ms/step - loss: 0.2924 - accuracy: 0.8789 - val_loss: 0.3501 - val_accuracy: 0.8527\n",
      "Epoch 64/90\n",
      "30/30 [==============================] - 1s 19ms/step - loss: 0.2905 - accuracy: 0.8796 - val_loss: 0.3503 - val_accuracy: 0.8530\n",
      "Epoch 65/90\n",
      "30/30 [==============================] - 1s 19ms/step - loss: 0.2874 - accuracy: 0.8786 - val_loss: 0.3505 - val_accuracy: 0.8526\n",
      "Epoch 66/90\n",
      "30/30 [==============================] - 1s 19ms/step - loss: 0.2930 - accuracy: 0.8766 - val_loss: 0.3507 - val_accuracy: 0.8533\n",
      "Epoch 67/90\n",
      "30/30 [==============================] - 1s 19ms/step - loss: 0.2877 - accuracy: 0.8793 - val_loss: 0.3516 - val_accuracy: 0.8518\n",
      "Epoch 68/90\n",
      "30/30 [==============================] - 1s 20ms/step - loss: 0.2870 - accuracy: 0.8820 - val_loss: 0.3507 - val_accuracy: 0.8528\n",
      "Epoch 69/90\n",
      "30/30 [==============================] - 1s 19ms/step - loss: 0.2775 - accuracy: 0.8867 - val_loss: 0.3507 - val_accuracy: 0.8525\n",
      "Epoch 70/90\n",
      "30/30 [==============================] - 1s 19ms/step - loss: 0.2903 - accuracy: 0.8781 - val_loss: 0.3521 - val_accuracy: 0.8515\n",
      "Epoch 71/90\n",
      "30/30 [==============================] - 1s 20ms/step - loss: 0.2942 - accuracy: 0.8766 - val_loss: 0.3519 - val_accuracy: 0.8512\n",
      "Epoch 72/90\n",
      "30/30 [==============================] - 1s 20ms/step - loss: 0.2876 - accuracy: 0.8805 - val_loss: 0.3514 - val_accuracy: 0.8545\n",
      "Epoch 73/90\n",
      "30/30 [==============================] - 1s 19ms/step - loss: 0.2894 - accuracy: 0.8778 - val_loss: 0.3565 - val_accuracy: 0.8502\n",
      "Epoch 74/90\n",
      "30/30 [==============================] - 1s 19ms/step - loss: 0.2883 - accuracy: 0.8789 - val_loss: 0.3511 - val_accuracy: 0.8533\n",
      "Epoch 75/90\n",
      "30/30 [==============================] - 1s 19ms/step - loss: 0.2829 - accuracy: 0.8809 - val_loss: 0.3515 - val_accuracy: 0.8530\n",
      "Epoch 76/90\n",
      "30/30 [==============================] - 1s 19ms/step - loss: 0.2874 - accuracy: 0.8787 - val_loss: 0.3521 - val_accuracy: 0.8513\n",
      "Epoch 77/90\n",
      "30/30 [==============================] - 1s 19ms/step - loss: 0.2917 - accuracy: 0.8774 - val_loss: 0.3514 - val_accuracy: 0.8529\n",
      "Epoch 78/90\n",
      "30/30 [==============================] - 1s 19ms/step - loss: 0.2888 - accuracy: 0.8796 - val_loss: 0.3515 - val_accuracy: 0.8528\n",
      "Epoch 79/90\n",
      "30/30 [==============================] - 1s 19ms/step - loss: 0.2874 - accuracy: 0.8811 - val_loss: 0.3534 - val_accuracy: 0.8511\n",
      "Epoch 80/90\n",
      "30/30 [==============================] - 1s 19ms/step - loss: 0.2844 - accuracy: 0.8799 - val_loss: 0.3515 - val_accuracy: 0.8536\n",
      "Epoch 81/90\n",
      "30/30 [==============================] - 1s 19ms/step - loss: 0.2832 - accuracy: 0.8818 - val_loss: 0.3521 - val_accuracy: 0.8535\n",
      "Epoch 82/90\n",
      "30/30 [==============================] - 1s 19ms/step - loss: 0.2878 - accuracy: 0.8788 - val_loss: 0.3516 - val_accuracy: 0.8524\n",
      "Epoch 83/90\n",
      "30/30 [==============================] - 1s 19ms/step - loss: 0.2832 - accuracy: 0.8811 - val_loss: 0.3518 - val_accuracy: 0.8526\n",
      "Epoch 84/90\n",
      "30/30 [==============================] - 1s 20ms/step - loss: 0.2845 - accuracy: 0.8845 - val_loss: 0.3529 - val_accuracy: 0.8513\n",
      "Epoch 85/90\n",
      "30/30 [==============================] - 1s 19ms/step - loss: 0.2859 - accuracy: 0.8823 - val_loss: 0.3524 - val_accuracy: 0.8520\n",
      "Epoch 86/90\n",
      "30/30 [==============================] - 1s 19ms/step - loss: 0.2869 - accuracy: 0.8823 - val_loss: 0.3523 - val_accuracy: 0.8534\n",
      "Epoch 87/90\n",
      "30/30 [==============================] - 1s 20ms/step - loss: 0.2811 - accuracy: 0.8860 - val_loss: 0.3529 - val_accuracy: 0.8514\n",
      "Epoch 88/90\n",
      "30/30 [==============================] - 1s 19ms/step - loss: 0.2838 - accuracy: 0.8810 - val_loss: 0.3520 - val_accuracy: 0.8540\n",
      "Epoch 89/90\n",
      "30/30 [==============================] - 1s 19ms/step - loss: 0.2850 - accuracy: 0.8837 - val_loss: 0.3537 - val_accuracy: 0.8521\n",
      "Epoch 90/90\n",
      "30/30 [==============================] - 1s 19ms/step - loss: 0.2776 - accuracy: 0.8834 - val_loss: 0.3556 - val_accuracy: 0.8509\n"
     ]
    }
   ],
   "source": [
    "fitmodel=model.fit(x_train,y_train,epochs=90,batch_size=512,validation_data=(x_val,y_val),verbose=1)"
   ]
  },
  {
   "cell_type": "code",
   "execution_count": 20,
   "id": "ccb74501",
   "metadata": {},
   "outputs": [
    {
     "name": "stdout",
     "output_type": "stream",
     "text": [
      "782/782 [==============================] - 1s 2ms/step - loss: 0.3491 - accuracy: 0.8499\n",
      "[0.3491246998310089, 0.8499199748039246]\n"
     ]
    }
   ],
   "source": [
    "result=model.evaluate(test_data,test_labels)\n",
    "print(result)"
   ]
  },
  {
   "cell_type": "markdown",
   "id": "75c4f57f",
   "metadata": {},
   "source": [
    "# Save Model"
   ]
  },
  {
   "cell_type": "code",
   "execution_count": 21,
   "id": "211b9d4d",
   "metadata": {},
   "outputs": [],
   "source": [
    "model.save(\"model.h5\")"
   ]
  },
  {
   "cell_type": "markdown",
   "id": "06c86641",
   "metadata": {},
   "source": [
    "# Load Model "
   ]
  },
  {
   "cell_type": "code",
   "execution_count": 22,
   "id": "4b13a941",
   "metadata": {},
   "outputs": [],
   "source": [
    "model=keras.models.load_model(\"model.h5\")"
   ]
  },
  {
   "cell_type": "code",
   "execution_count": 26,
   "id": "26821b36",
   "metadata": {},
   "outputs": [
    {
     "name": "stdout",
     "output_type": "stream",
     "text": [
      "Of all the animation classics from the Walt Disney Company, there is perhaps none that is more celebrated than \"The Lion King.\" Its acclaim is understandable: this is quite simply a glorious work of art.\"The Lion King\" gets off to a fantastic start. The film's opening number, \"The Circle of Life,\" is outstanding. The song lasts for about four minutes, but from the first sound, the audience is floored. Not even National Geographic can capture something this beautiful and dramatic. Not only is this easily the greatest moment in film animation, this is one of the greatest sequences in film history. The story that follows is not as majestic, but the film has to tell a story. Actually, the rest of the film holds up quite well. The story takes place in Africa, where the lions rule. Their king, Mufasa (James Earl Jones) has just been blessed with a son, Simba (Jonathan Taylor Thomas), who goes in front of his uncle Scar (Jeremy Irons) as next in line for the throne. Scar is furious, and sets in motion plans to usurp the throne for himself. After a tragedy occurs and Mufasa is killed, Scar persuades Simba to flee, leaving himself as king. Simba grows up in exile, but he learns that while he can run away from his past, he can never escape it. When viewing the film, it is obvious that \"The Lion King\" is quite different from its predecessors (and successors). This is an epic story that contains more dramatic power than all the other Disney films combined. While there are definitely some light-hearted moments, there is no denying the dark drama that takes up the bulk of the story. While it could be argued that Disney is the champion of family entertainment, this film is not for the very young. Some of the sequences are very dark and violent, many bordering on frightening, even for the older crowd.The voice actors are terrific. Jonathan Taylor Thomas brings a large dose of innocence to Young Simba. He's mischievous, but also terribly naive. His older counterpart, voiced by Matthew Broderick, equals him. He's older, but no less mature. The voices are so similar that it's almost impossible not to believe that they are the same character at different ages. Perhaps no one could have been better suited for the role of Mufasa than James Earl Jones. His baritone voice gives the Mufasa a quality of great power and wisdom; there is no question that his role is king. As Scar, Jeremy Irons is pitch-perfect. The drawing of the character is villainous, but Irons' vocal work complements the animation to create one of the most memorable, and vicious, villains in Disney history. He's unquestionably evil, but he's also clever, which makes him all the more dangerous. Manipulation, not violence is his greatest weapon. Providing some much needed comic relief are Nathan Lane and Ernie Sabella as Timon and Pumbaa, two other outcasts (a meerkat and a warthog), and Rowan Atkinson as Zazu. While there is definite fun from these characters, neither the actors nor the filmmakers allow them to go over-the-top and destroy the mood of the film.Disney's animated features are known for their gorgeous artwork. Nowhere is this more apparent than in \"The Lion King.\" Every single frame is jaw-dropping. The colors are rich, and the drawings are sharp and beautiful. One of the pitfalls of animation (both computer and hand-drawn) is that there is sometimes a visible distance between the subject and the background, making it seem as if the figure animation was cut and pasted on the background (this is obviously what happens, but it is up to the artists to make sure that it isn't noticeable). There is none of that here.Throughout the Golden Age of Disney animation, the films have been musicals. \"The Lion King\" is no different, and the songs are brilliant. All of the numbers are standouts (\"Can You Feel the Love Tonight\" won the Oscar, but in my opinion, \"The Circle of Life\" was better). In the cases of Simba and Nala (Simba's girlfriend), both young and old, there is a noticeable difference between the speaking and singing parts (everyone else does their own singing and speaking), but never mind. It still works, and that's what's important.\"The Lion King\" is not flawless, but on first viewing, they aren't noticeable, and it is likely that the young won't ever notice them. \"Beauty and the Beast\" was the first animated film to get an Oscar nomination for Best Picture (it lost to \"The Silence of the Lambs\"), and is thus far the only animated film to receive such an honor. That being the case, it's hard to understand why \"The Lion King\" was not given the same distinction. The two films are more or less equal in quality, and the nominees for the honor that year were not strong. If you haven't already, see \"The Lion King.\" You won't be disappointed.\n",
      "[[    6  4687  3744   200     4   875     5     4   978   231    12   306\n",
      "     17    48     4   822   748    16   605     5 12625    23     4   978\n",
      "     14     9   540    51   571    21    12     9    56     8     4  2719\n",
      "      8    97   252    15    12   218  6456    50     9   600     7    15\n",
      "      2     4  2050   559     7   910   748     4   108    28    77  2769\n",
      "      4  3082   711     9    57   275     5     4   690    26   530    32\n",
      "      7     4  1396    26 16015    70    25   235     4   119  4487  1199\n",
      "      4   735    21    11    61   652     4  4246     7   113    16   128\n",
      "     11     4  2936     7 10539     5 35738 20403   980   199   185     5\n",
      "    154    50     9     6  6456  1474   200     4  1386     5  1118   531\n",
      "    316   334   127    68   205  1118     5  1386    21   115   330    12\n",
      "    131   495     5   198   803     2  3082   711     9    24  3562    21\n",
      "     23    86   829    36   713  6456     5    12     9  1329    15     4\n",
      "    185   528   126  1495    98   936     5     4  2773    16     4    86\n",
      "   1125    22     8    79    35   735  4372    18   118   431    12   416\n",
      "      8     4  3542     7     4 10721     5     9  1346   230     4    64\n",
      "   1125    22     8  3911   141    35  2898    15   112     4   420    45\n",
      "    254     8   391   138     4  3082   711    16    24   348     4   172\n",
      "   8076     4   107   108    26    53    42   329  3215    11   489     5\n",
      "      4 13341    18     4  2898    15   291    71    24   565    48    25\n",
      "    774   460    67     4  3082   711    25   528    30   685]]\n",
      "[0.9496231]\n"
     ]
    }
   ],
   "source": [
    "with open(\"test.txt\",encoding=\"utf-8\") as f:\n",
    "    for line in f.readlines():\n",
    "        nline=line.replace(\",\",\"\").replace(\".\",\"\").replace(\"(\",\"\").replace(\")\",\"\").replace(\":\",\"\").replace(\"\\\"\",\"\").strip().split(\" \")\n",
    "        encode=review_encode(nline)\n",
    "        encode=keras.preprocessing.sequence.pad_sequences([encode],value=word_index[\"<PAD>\"],padding=\"post\",maxlen=250)\n",
    "        pred=model.predict(encode)\n",
    "        print(line)\n",
    "        print(encode)\n",
    "        print(pred[0])"
   ]
  },
  {
   "cell_type": "markdown",
   "id": "1c75dfc6",
   "metadata": {},
   "source": [
    "# Prediction"
   ]
  },
  {
   "cell_type": "code",
   "execution_count": 23,
   "id": "ef0422fd",
   "metadata": {},
   "outputs": [],
   "source": [
    "test_review=test_data[0]\n",
    "pred=model.predict([test_review])"
   ]
  },
  {
   "cell_type": "code",
   "execution_count": 24,
   "id": "43e915b6",
   "metadata": {},
   "outputs": [
    {
     "name": "stdout",
     "output_type": "stream",
     "text": [
      "Review\n",
      "<START> please give this one a miss br br <UNK> <UNK> and the rest of the cast <UNK> terrible performances the show is <UNK> <UNK> <UNK> br br i don't know how michael <UNK> could have <UNK> this one on his <UNK> he almost seemed to know this wasn't going to work out and his performance was quite <UNK> so all you <UNK> fans give this a miss <PAD> <PAD> <PAD> <PAD> <PAD> <PAD> <PAD> <PAD> <PAD> <PAD> <PAD> <PAD> <PAD> <PAD> <PAD> <PAD> <PAD> <PAD> <PAD> <PAD> <PAD> <PAD> <PAD> <PAD> <PAD> <PAD> <PAD> <PAD> <PAD> <PAD> <PAD> <PAD> <PAD> <PAD> <PAD> <PAD> <PAD> <PAD> <PAD> <PAD> <PAD> <PAD> <PAD> <PAD> <PAD> <PAD> <PAD> <PAD> <PAD> <PAD> <PAD> <PAD> <PAD> <PAD> <PAD> <PAD> <PAD> <PAD> <PAD> <PAD> <PAD> <PAD> <PAD> <PAD> <PAD> <PAD> <PAD> <PAD> <PAD> <PAD> <PAD> <PAD> <PAD> <PAD> <PAD> <PAD> <PAD> <PAD> <PAD> <PAD> <PAD> <PAD> <PAD> <PAD> <PAD> <PAD> <PAD> <PAD> <PAD> <PAD> <PAD> <PAD> <PAD> <PAD> <PAD> <PAD> <PAD> <PAD> <PAD> <PAD> <PAD> <PAD> <PAD> <PAD> <PAD> <PAD> <PAD> <PAD> <PAD> <PAD> <PAD> <PAD> <PAD> <PAD> <PAD> <PAD> <PAD> <PAD> <PAD> <PAD> <PAD> <PAD> <PAD> <PAD> <PAD> <PAD> <PAD> <PAD> <PAD> <PAD> <PAD> <PAD> <PAD> <PAD> <PAD> <PAD> <PAD> <PAD> <PAD> <PAD> <PAD> <PAD> <PAD> <PAD> <PAD> <PAD> <PAD> <PAD> <PAD> <PAD> <PAD> <PAD> <PAD> <PAD> <PAD> <PAD> <PAD> <PAD> <PAD> <PAD> <PAD> <PAD> <PAD> <PAD> <PAD> <PAD> <PAD> <PAD> <PAD> <PAD> <PAD> <PAD> <PAD> <PAD> <PAD> <PAD> <PAD> <PAD> <PAD> <PAD> <PAD> <PAD>\n",
      "Predection: [1.4378083e-17]\n",
      "Actual: 0\n"
     ]
    }
   ],
   "source": [
    "print(\"Review\")\n",
    "print(decode_review(test_review))\n",
    "print(\"Predection: \"+str(pred[0]))\n",
    "print(\"Actual: \"+str(test_labels[0]))"
   ]
  },
  {
   "cell_type": "markdown",
   "id": "dd29cba6",
   "metadata": {},
   "source": [
    "# Reference"
   ]
  },
  {
   "cell_type": "markdown",
   "id": "4db0ea42",
   "metadata": {},
   "source": [
    "# Books\n",
    "Image Operators by Jason M. Kinser"
   ]
  },
  {
   "cell_type": "markdown",
   "id": "619c828e",
   "metadata": {},
   "source": [
    "# Videos\n",
    "Tech with Tim(https://www.youtube.com/watch?v=OS0Ddkle0o4&list=PLzMcBGfZo4-lak7tiFDec5_ZMItiIIfmj)"
   ]
  },
  {
   "cell_type": "markdown",
   "id": "48f9f53f",
   "metadata": {},
   "source": [
    "# Sites\n",
    "TensorFlow(https://www.tensorflow.org/tutorials/keras/text_classification_with_hub)"
   ]
  }
 ],
 "metadata": {
  "kernelspec": {
   "display_name": "Python 3 (ipykernel)",
   "language": "python",
   "name": "python3"
  },
  "language_info": {
   "codemirror_mode": {
    "name": "ipython",
    "version": 3
   },
   "file_extension": ".py",
   "mimetype": "text/x-python",
   "name": "python",
   "nbconvert_exporter": "python",
   "pygments_lexer": "ipython3",
   "version": "3.8.8"
  }
 },
 "nbformat": 4,
 "nbformat_minor": 5
}
