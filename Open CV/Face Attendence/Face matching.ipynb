{
 "cells": [
  {
   "cell_type": "markdown",
   "id": "b3d8b1fd",
   "metadata": {},
   "source": [
    "# Face Attendence(Hough Transformation)"
   ]
  },
  {
   "cell_type": "code",
   "execution_count": 1,
   "id": "872f5bca",
   "metadata": {},
   "outputs": [],
   "source": [
    "import cv2\n",
    "import face_recognition\n",
    "import numpy as np\n",
    "import os\n",
    "from datetime import datetime"
   ]
  },
  {
   "cell_type": "code",
   "execution_count": 2,
   "id": "fd704419",
   "metadata": {},
   "outputs": [],
   "source": [
    "path='images'"
   ]
  },
  {
   "cell_type": "code",
   "execution_count": 3,
   "id": "a235f930",
   "metadata": {},
   "outputs": [],
   "source": [
    "images=[]\n",
    "personName=[]\n",
    "encodeList=[]\n",
    "myList=os.listdir(path)\n",
    "for i in myList:\n",
    "    ci=cv2.imread(f'{path}/{i}')\n",
    "    images.append(ci)\n",
    "    personName.append(os.path.splitext(i)[0])"
   ]
  },
  {
   "cell_type": "code",
   "execution_count": 12,
   "id": "f4e8abef",
   "metadata": {},
   "outputs": [],
   "source": [
    "#face encoding(using Hough algorith)\n",
    "def faceEncoding(images):\n",
    "    for img in images:\n",
    "        img=cv2.cvtColor(img,cv2.COLOR_BGR2RGB)\n",
    "        encode=face_recognition.face_encodings(img)[0]\n",
    "        encodeList.append(encode)\n",
    "    return encodeList\n",
    "encodeListKnown=encodeList"
   ]
  },
  {
   "cell_type": "code",
   "execution_count": 5,
   "id": "d38e29ce",
   "metadata": {},
   "outputs": [],
   "source": [
    "def attendance(name):\n",
    "    with open('Attend.cvs', 'r+') as f:\n",
    "        myDataList = f.readlines()\n",
    "        nameList = []\n",
    "        for line in myDataList:\n",
    "            entry = line.split(',')\n",
    "            nameList.append(entry[0])\n",
    "        if name not in nameList:\n",
    "            time_now = datetime.now()\n",
    "            tStr = time_now.strftime('%H:%M:%S')\n",
    "            dStr = time_now.strftime('%d/%m/%Y')\n",
    "            f.writelines(f'\\n{name},{tStr},{dStr}')"
   ]
  },
  {
   "cell_type": "code",
   "execution_count": null,
   "id": "1948a18b",
   "metadata": {},
   "outputs": [],
   "source": [
    "cap=cv2.VideoCapture(0)\n",
    "while True:\n",
    "    ret,frame=cap.read()\n",
    "    faces=cv2.resize(frame,(0,0),None,0.25,0.25)\n",
    "    face=cv2.cvtColor(faces,cv2.COLOR_BGR2RGB)\n",
    "    facesCurrentFrame=face_recognition.face_locations(faces)\n",
    "    encodeCurrentFrame=face_recognition.face_encodings(faces,facesCurrentFrame)\n",
    "    for encodeFace,faceLoc in zip(encodeCurrentFrame,facesCurrentFrame):\n",
    "        matches=face_recognition.compare_faces(encodeListKnown,encodeFace)\n",
    "        face_distance=face_recognition.face_distance(encodeListKnown,encodeFace)\n",
    "        \n",
    "        matchIndex=np.argmin(face_distance)\n",
    "        if matches[matchIndex]:\n",
    "            name=personName[matchIndex].upper()\n",
    "            print(name)\n",
    "            y1, x2, y2, x1 = faceLoc\n",
    "            y1, x2, y2, x1 = y1 * 4, x2 * 4, y2 * 4, x1 * 4\n",
    "            cv2.rectangle(frame, (x1, y1), (x2, y2), (0, 255, 0), 2)\n",
    "            cv2.rectangle(frame,(x1,y2-35),(x2,y2),(0,255,0),cv2.FILLED)\n",
    "            cv2.putText(frame,name,(x1+6,y2-6),cv2.FONT_HERSHEY_COMPLEX,1,(0,0,255),2)\n",
    "            attendance(name)\n",
    "    cv2.imshow('Frame',frame)\n",
    "    if cv2.waitKey(1)==ord('q'):\n",
    "        break\n",
    "cap.release()\n",
    "cv2.destroyAllWindows()"
   ]
  },
  {
   "cell_type": "code",
   "execution_count": 4,
   "id": "0e7199cb",
   "metadata": {},
   "outputs": [
    {
     "name": "stdout",
     "output_type": "stream",
     "text": [
      "['bill gates', 'donald trump', 'elon musk', 'Geeta Devi', 'jeff bezos', 'obama']\n"
     ]
    }
   ],
   "source": [
    "print(personName)"
   ]
  }
 ],
 "metadata": {
  "kernelspec": {
   "display_name": "Python 3 (ipykernel)",
   "language": "python",
   "name": "python3"
  },
  "language_info": {
   "codemirror_mode": {
    "name": "ipython",
    "version": 3
   },
   "file_extension": ".py",
   "mimetype": "text/x-python",
   "name": "python",
   "nbconvert_exporter": "python",
   "pygments_lexer": "ipython3",
   "version": "3.8.8"
  }
 },
 "nbformat": 4,
 "nbformat_minor": 5
}
